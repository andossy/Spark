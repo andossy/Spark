{
 "cells": [
  {
   "cell_type": "markdown",
   "metadata": {},
   "source": [
    "# Generating 3D Geometries from 2D RyR placements\n",
    "\n",
    "These scripts are intended to take binary images of RyR locations in a 2D plane, and create a 3D volumetric mesh based on this information. The resulting geometry is intended to be phenomenologically similar in function, but not inteded to be physiologically accurate - we there model the nSR as straight columns in the z-direction.\n",
    "\n",
    "From the original 2D binary array of RyR locations, we produce four two-dimensional arrays given in 12 nm resolution:\n",
    "    1. RyR\n",
    "    2. jSR\n",
    "    3. nSR columns\n",
    "    4. t-tubules\n",
    "\n",
    "The following examples show how these arrays are made"
   ]
  },
  {
   "cell_type": "markdown",
   "metadata": {},
   "source": [
    "# Geometry Utils\n",
    "\n",
    "Functionality for reading RyR data from `.ppm`-files and manipulating the 2D arrays is located in `geometry_utils.py`"
   ]
  },
  {
   "cell_type": "code",
   "execution_count": 1,
   "metadata": {
    "collapsed": false
   },
   "outputs": [],
   "source": [
    "import numpy as np\n",
    "import matplotlib.pyplot as plt\n",
    "import geometry_util as gu"
   ]
  },
  {
   "cell_type": "code",
   "execution_count": 2,
   "metadata": {
    "collapsed": false
   },
   "outputs": [],
   "source": [
    "def plot(array, title='', show=True, **kwargs):\n",
    "    plt.imshow(array, origin='lower', interpolation='none', cmap='Greys_r', **kwargs)\n",
    "    plt.title(title)\n",
    "    plt.xticks(())\n",
    "    plt.yticks(())\n",
    "    if show:\n",
    "        plt.show()"
   ]
  },
  {
   "cell_type": "markdown",
   "metadata": {},
   "source": [
    "##### Read .ppm file into numpy array"
   ]
  },
  {
   "cell_type": "code",
   "execution_count": 3,
   "metadata": {
    "collapsed": false
   },
   "outputs": [
    {
     "data": {
      "image/png": "[encoded data removed]",
      "text/plain": [
       "<matplotlib.figure.Figure at 0x7fe088e226d0>"
      ]
     },
     "metadata": {},
     "output_type": "display_data"
    },
    {
     "name": "stdout",
     "output_type": "stream",
     "text": [
      "(24, 21)\n"
     ]
    }
   ],
   "source": [
    "original = gu.read_ppm('img/7_sub')\n",
    "plot(original, 'Original .ppm data')\n",
    "print original.shape"
   ]
  },
  {
   "cell_type": "markdown",
   "metadata": {},
   "source": [
    "This is the raw data of RyR locations, with each pixel in this dataset represents $36\\times36$ nm. Note that the shape of the array is irregular. To change the array to represent an area of $2\\times2$ μm we first trim down to the bounding box of the data and then pad with zeros on all sides to get to the correct size, effectively centering the data."
   ]
  },
  {
   "cell_type": "markdown",
   "metadata": {},
   "source": [
    "##### Trim down to bounding box\n",
    "* Note that the data is transposed to ensure that the x-axis is longer for aesthetic reasons\n",
    "    * Can be avoided with the kwarg `flip=False`"
   ]
  },
  {
   "cell_type": "code",
   "execution_count": 4,
   "metadata": {
    "collapsed": false
   },
   "outputs": [
    {
     "data": {
      "image/png": "[encoded data removed]",
      "text/plain": [
       "<matplotlib.figure.Figure at 0x7fe088a6acd0>"
      ]
     },
     "metadata": {},
     "output_type": "display_data"
    }
   ],
   "source": [
    "bbox = gu.trim_to_bbox(original)\n",
    "plot(bbox, 'Trimmed to bbox')"
   ]
  },
  {
   "cell_type": "markdown",
   "metadata": {},
   "source": [
    "##### Pad image with zeros to specified size\n",
    "We choose dimensions of $56\\times 56$ pixels because $56\\times 36 {\\rm\\ nm} = 2.016$ μm"
   ]
  },
  {
   "cell_type": "code",
   "execution_count": 5,
   "metadata": {
    "collapsed": false
   },
   "outputs": [
    {
     "data": {
      "image/png": "[encoded data removed]",
      "text/plain": [
       "<matplotlib.figure.Figure at 0x7fe088dfebd0>"
      ]
     },
     "metadata": {},
     "output_type": "display_data"
    }
   ],
   "source": [
    "ryr = gu.pad_array(bbox, (56, 56))\n",
    "plot(ryr, title='Array extended to specified size')"
   ]
  },
  {
   "cell_type": "markdown",
   "metadata": {},
   "source": [
    "### Create jSR data from RyR\n",
    "\n",
    "As RyRs are found in the jSR, we assume the jSR to be located surrounding the RyRs. The jSR is therefore created by padding with layers of jSR aronud the RyR. The numbers of layers to pad will strongly affect the simulations as there will both be more jSR, but it will also decide which RyR's are strongly connected and not"
   ]
  },
  {
   "cell_type": "code",
   "execution_count": 6,
   "metadata": {
    "collapsed": false
   },
   "outputs": [
    {
     "data": {
      "image/png": "[encoded data removed]",
      "text/plain": [
       "<matplotlib.figure.Figure at 0x7fe088a11290>"
      ]
     },
     "metadata": {},
     "output_type": "display_data"
    }
   ],
   "source": [
    "jsr = gu.create_jsr(ryr, 2) # Pad with 2 layers\n",
    "plot(jsr, 'jSR')"
   ]
  },
  {
   "cell_type": "markdown",
   "metadata": {},
   "source": [
    "### Refine RyR and jSR arrays\n",
    "\n",
    "The raw data were given with a resolution of 36 nm, but both the size of a RyR and the width of the dyadic cleft are smaller, at 12 nm, we therefore refine the resolution of our arrays. This is done differently for the RyR and jSR.\n",
    "\n",
    "Subdviding each pixel into $3\\times 3$ pixels, the RyR array is refined by placing the RyR in the centermost of the smaller pixels. This means that all RyRs will lie in regular grids, with a distance of 36 nm between them. For the jSR we fill in all the subpixels, for corners"
   ]
  },
  {
   "cell_type": "markdown",
   "metadata": {},
   "source": [
    "##### Example refinement"
   ]
  },
  {
   "cell_type": "code",
   "execution_count": 7,
   "metadata": {
    "collapsed": false
   },
   "outputs": [
    {
     "data": {
      "image/png": "[encoded data removed]",
      "text/plain": [
       "<matplotlib.figure.Figure at 0x7fe0888a9e90>"
      ]
     },
     "metadata": {},
     "output_type": "display_data"
    }
   ],
   "source": [
    "original = np.zeros((7, 7))\n",
    "original[1:-3, 2] = 1\n",
    "original[2, 1:-2] = 1\n",
    "original[5, 4:6] = 1\n",
    "original[4, 5] = 1\n",
    "\n",
    "fig, axs = plt.subplots(nrows=1, ncols=3)\n",
    "plt.sca(axs[0]); plot(original, title='Example', show=False)\n",
    "plt.sca(axs[1]); plot(gu.refine_ryr(original, 3), show=False, title='RyR refinement')\n",
    "plt.sca(axs[2]); plot(gu.refine_jsr(original, 3), show=False, title='jSR refinement')\n",
    "plt.show()"
   ]
  },
  {
   "cell_type": "code",
   "execution_count": 8,
   "metadata": {
    "collapsed": false
   },
   "outputs": [
    {
     "data": {
      "image/png": "[encoded data removed]",
      "text/plain": [
       "<matplotlib.figure.Figure at 0x7fe088a110d0>"
      ]
     },
     "metadata": {},
     "output_type": "display_data"
    }
   ],
   "source": [
    "fig, axs = plt.subplots(nrows=2, ncols=2)\n",
    "\n",
    "plt.sca(axs[0,0])\n",
    "plot(ryr, show=False, title='Coarse RyR')\n",
    "ryr = gu.refine_ryr(ryr, 3)\n",
    "plt.sca(axs[0,1])\n",
    "plot(ryr, show=False, title='Refined RyR')\n",
    "\n",
    "plt.sca(axs[1,0])\n",
    "plot(jsr, show=False, title='Coarse jSR')\n",
    "jsr = gu.refine_jsr(jsr, 3)\n",
    "plt.sca(axs[1,1])\n",
    "plot(jsr, show=False, title='Refined jSR')\n",
    "plt.show()"
   ]
  },
  {
   "cell_type": "markdown",
   "metadata": {},
   "source": [
    "##### Plot Combined RyR and jSR"
   ]
  },
  {
   "cell_type": "code",
   "execution_count": 9,
   "metadata": {
    "collapsed": false
   },
   "outputs": [
    {
     "data": {
      "image/png": "[encoded data removed]",
      "text/plain": [
       "<matplotlib.figure.Figure at 0x7fe088911e10>"
      ]
     },
     "metadata": {},
     "output_type": "display_data"
    }
   ],
   "source": [
    "combined = jsr + 3*ryr\n",
    "plot(jsr + 3*ryr, 'Combined RyR and jSR')"
   ]
  },
  {
   "cell_type": "markdown",
   "metadata": {},
   "source": [
    "#### Creating nSR columns\n",
    "\n",
    "We create nSR as $36\\times36$ nm columns surrounding each individual RyR"
   ]
  },
  {
   "cell_type": "code",
   "execution_count": 10,
   "metadata": {
    "collapsed": false
   },
   "outputs": [
    {
     "data": {
      "image/png": "[encoded data removed]",
      "text/plain": [
       "<matplotlib.figure.Figure at 0x7fe0886cdbd0>"
      ]
     },
     "metadata": {},
     "output_type": "display_data"
    }
   ],
   "source": [
    "nsr = gu.create_nsr(ryr, width=3)\n",
    "plot(nsr, title='nSR Columns')"
   ]
  },
  {
   "cell_type": "markdown",
   "metadata": {},
   "source": [
    "##### Plot RyR, jSR and nSR together"
   ]
  },
  {
   "cell_type": "code",
   "execution_count": 11,
   "metadata": {
    "collapsed": false
   },
   "outputs": [
    {
     "data": {
      "image/png": "[encoded data removed]",
      "text/plain": [
       "<matplotlib.figure.Figure at 0x7fe088aac5d0>"
      ]
     },
     "metadata": {},
     "output_type": "display_data"
    }
   ],
   "source": [
    "combined = jsr.astype(np.uint8)\n",
    "combined += nsr\n",
    "combined += ryr\n",
    "\n",
    "cmap = plt.get_cmap('Greys_r', 4)\n",
    "gu.plot_array(combined, psize=12e-3, cmap=cmap,\n",
    "              title='2D arrays overlaid', vmin=0, vmax=4)\n",
    "\n",
    "cbar = plt.colorbar(ticks=np.arange(0.5, 5))\n",
    "cbar.ax.set_yticklabels(['Cytosol', 'jSR', 'nSR', 'RyR'])\n",
    "plt.show()"
   ]
  },
  {
   "cell_type": "markdown",
   "metadata": {},
   "source": [
    "##### Save combined 2D plot as pdf"
   ]
  },
  {
   "cell_type": "code",
   "execution_count": 12,
   "metadata": {
    "collapsed": false
   },
   "outputs": [],
   "source": [
    "gu.save_combined_2D_pdf(\"P2_7_sub\", jsr, nsr, ryr)"
   ]
  },
  {
   "cell_type": "markdown",
   "metadata": {},
   "source": [
    "### Creating 3D geometry\n",
    "\n",
    "We have now created the RyR, jSR and nSR 2D arrays of the same size and resolution $12\\times12$ nm. We let the t-tubule array also be represented by the jSR, meaning it is found at the opposite side of the cleft wherever jSR is found\n",
    "\n",
    "* The 3D geometry is by extending the arrays in the z-direction by the following process\n",
    "    1. The cleft is placed at the center z index\n",
    "    2. The jSR is placed on one side of the cleft and extended to a given thickness\n",
    "    3. The corner layers of the jSR are smoothed\n",
    "    4. The t-tubule voxels are placed on the other side of the cleft\n",
    "    5. nSR columns are added atop the jSR and extended to a given height\n",
    "    6. A nSR roof is added to the top of the column, this is simply the bounding box of all columns\n",
    "    7. All other voxels are marked as cytosol\n",
    "    8. Boundary markers are added to aid later simulation\n",
    "    9. Both geometry and boundary information is saved to a h5 file"
   ]
  },
  {
   "cell_type": "markdown",
   "metadata": {},
   "source": [
    "All this is performed by the function\n",
    "    * generate_cru_geometry_file\n",
    " \n",
    "To perform all the steps from `.ppm`-file to `.h5` geometry file, use\n",
    "    * generate_cru_geometry_file"
   ]
  },
  {
   "cell_type": "code",
   "execution_count": 13,
   "metadata": {
    "collapsed": false
   },
   "outputs": [],
   "source": [
    "import generate_cru_geometry_file as gcgf\n",
    "\n",
    "gcgf.generate_cru_geometry_file(ryr, jsr, nsr, \n",
    "                                nz=3*56, # ~2 um\n",
    "                                cleft_size=1, \n",
    "                                jsr_thickness=3, \n",
    "                                double=True, \n",
    "                                basename='geometries/example')"
   ]
  },
  {
   "cell_type": "markdown",
   "metadata": {},
   "source": [
    "## Visualizing the geometry\n",
    "\n",
    "To visualize the geometry, you can use the `GeometryVisualizer` class from `visualize_geomtry.py`. This can also be used via the terminal and controlled via command line arguments."
   ]
  },
  {
   "cell_type": "markdown",
   "metadata": {},
   "source": [
    "##### Command-line arguments for geometry visualization"
   ]
  },
  {
   "cell_type": "code",
   "execution_count": 14,
   "metadata": {
    "collapsed": false
   },
   "outputs": [
    {
     "name": "stdout",
     "output_type": "stream",
     "text": [
      "usage: visualize_geometry.py geometry_file [options]\n",
      "\n",
      "Visualize a 3D geometry.\n",
      "\n",
      "positional arguments:\n",
      "  geometry_file         h5 geometry file to visualize\n",
      "\n",
      "optional arguments:\n",
      "  -h, --help            show this help message and exit\n",
      "  --domains [d [d ...]]\n",
      "                        sequence of visible domains, use ids from [0, 4]\n",
      "  --boundaries [b [b ...]]\n",
      "                        sequence of visibile boundaries, use names\n",
      "  --frame               Draw a bounding box of entire geometry\n",
      "  --no-frame            Do not draw bounding box for entire geometry\n"
     ]
    }
   ],
   "source": [
    "%run visualize_geometry.py -h"
   ]
  },
  {
   "cell_type": "code",
   "execution_count": 15,
   "metadata": {
    "collapsed": false
   },
   "outputs": [],
   "source": [
    "%run visualize_geometry.py geometries/example_double.h5 --d 1 2 3 4 --frame"
   ]
  }
 ],
 "metadata": {
  "kernelspec": {
   "display_name": "Python 2",
   "language": "python",
   "name": "python2"
  },
  "language_info": {
   "codemirror_mode": {
    "name": "ipython",
    "version": 2
   },
   "file_extension": ".py",
   "mimetype": "text/x-python",
   "name": "python",
   "nbconvert_exporter": "python",
   "pygments_lexer": "ipython2",
   "version": "2.7.12"
  }
 },
 "nbformat": 4,
 "nbformat_minor": 1
}
